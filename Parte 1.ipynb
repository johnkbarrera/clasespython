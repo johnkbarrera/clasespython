{
 "cells": [
  {
   "cell_type": "markdown",
   "metadata": {},
   "source": [
    "# PARTE 1"
   ]
  },
  {
   "cell_type": "markdown",
   "metadata": {},
   "source": [
    "## Introducción a la Programación"
   ]
  },
  {
   "cell_type": "markdown",
   "metadata": {},
   "source": [
    "### Paradigmas de la programación\n",
    "Es la forma  de conceptualizar la ejecución, la estructura y la organización de la realidad.\n",
    "\n",
    "### Paradigmas de programación \n",
    "\n",
    "**Programación imperativa o por procedimientos**\n",
    "<div>•\tProgramación orientada a objetos</div> \n",
    "<div>•\tProgramación dinámica</div> \n",
    "<div>•\tProgramación dirigida por eventos</div> \n",
    "\n",
    "\n",
    "**Programación declarativa**\n",
    "<div>•\tProgramación funcional</div> \n",
    "<div>•\tProgramación lógica</div> \n",
    "<div>•\tProgramación con restricciones</div> \n",
    "\n",
    "\n",
    "**Programación multiparadigma**\n",
    "<div>•\tProgramación reactiva</div> \n",
    "<div>•\tLenguaje específico del dominio o DSL</div> "
   ]
  },
  {
   "cell_type": "markdown",
   "metadata": {},
   "source": [
    "**Python es un lenguaje multi-paradigma.**\n",
    "\n",
    "\n",
    "### Programación orientada a objetos en Python"
   ]
  },
  {
   "cell_type": "markdown",
   "metadata": {},
   "source": [
    "#### Conceptos\n",
    "\n",
    "<img src=\"images/poo.jpg\" align=\"left\" width=\"250\" height=\"250\" >"
   ]
  },
  {
   "cell_type": "markdown",
   "metadata": {},
   "source": [
    "**Clase:**\n",
    "Define propiedades y comportamientos de un objeto (es una abstracción de la realidad)\n",
    "        \n",
    "**Objeto:**\n",
    "Son entidades que encapsulan tipos de datos (atributos) y tiene un comportamiento. \n",
    "\n",
    "**Evento:**\n",
    "Es un suceso en el sistemas, cuando este ocurre el sistemas responde enviando el objeto necesario.  "
   ]
  },
  {
   "cell_type": "markdown",
   "metadata": {},
   "source": [
    "#### Características\n",
    "\n",
    "<img src=\"images/caracteristicas.jpg\" align=\"left\" width=\"250\" height=\"250\" >"
   ]
  },
  {
   "cell_type": "markdown",
   "metadata": {},
   "source": [
    "**Encapsulación:**\n",
    "Divide el código en una interfaz pública, y una  implementación privada.\n",
    "\n",
    "**Polimorfismo:**\n",
    "Es la capacidad de sobrecargar a los operadores estándar para que tengan un comportamiento adecuado en función de su contexto\n",
    "\n",
    "**Herencia:**\n",
    "Es la habilidad de crear subclases que contengan especializaciones de sus padres."
   ]
  },
  {
   "cell_type": "markdown",
   "metadata": {},
   "source": [
    "## Preparación y configuración del entorno\n",
    "\n",
    "\n",
    "<img src=\"images/pycharm.png\" align=\"left\" width=\"250\" height=\"250\" >"
   ]
  },
  {
   "cell_type": "markdown",
   "metadata": {},
   "source": [
    "https://www.anaconda.com/distribution/\n",
    "\n",
    "https://www.jetbrains.com/pycharm/\n",
    "\n",
    "https://thonny.org/\n",
    "\n",
    "https://www.eclipse.org/    https://www.pydev.org/"
   ]
  },
  {
   "cell_type": "markdown",
   "metadata": {},
   "source": [
    "## Tipo de Datos\n",
    "<img src=\"images/tipos_var.png\" align=\"left\" width=\"400\" height=\"400\" >"
   ]
  },
  {
   "cell_type": "markdown",
   "metadata": {},
   "source": [
    "### En Python\n",
    "\n",
    "1. int\n",
    "2. float\n",
    "3. str\n",
    "4. bool\n",
    "5. complex\n"
   ]
  },
  {
   "cell_type": "code",
   "execution_count": 24,
   "metadata": {},
   "outputs": [
    {
     "name": "stdout",
     "output_type": "stream",
     "text": [
      "<class 'int'> <class 'float'> <class 'str'> <class 'complex'> <class 'bool'>\n"
     ]
    }
   ],
   "source": [
    "print(type(1), type(1.2), type(\"a\"), type(1 + 1j), type(bool(-3)))"
   ]
  },
  {
   "cell_type": "code",
   "execution_count": 17,
   "metadata": {},
   "outputs": [
    {
     "data": {
      "text/plain": [
       "0.5"
      ]
     },
     "execution_count": 17,
     "metadata": {},
     "output_type": "execute_result"
    }
   ],
   "source": [
    "1.5/int(3)"
   ]
  },
  {
   "cell_type": "code",
   "execution_count": 7,
   "metadata": {},
   "outputs": [
    {
     "data": {
      "text/plain": [
       "NoneType"
      ]
     },
     "execution_count": 7,
     "metadata": {},
     "output_type": "execute_result"
    }
   ],
   "source": [
    "dat = None\n",
    "type(dat)"
   ]
  },
  {
   "cell_type": "code",
   "execution_count": 21,
   "metadata": {},
   "outputs": [
    {
     "data": {
      "text/plain": [
       "2j"
      ]
     },
     "execution_count": 21,
     "metadata": {},
     "output_type": "execute_result"
    }
   ],
   "source": [
    "dat = 1 + 1j\n",
    "type(dat)\n",
    "pow(dat,2)"
   ]
  },
  {
   "cell_type": "markdown",
   "metadata": {},
   "source": [
    "## Operadores\n",
    "<img src=\"images/operadores.jpg\" align=\"left\" width=\"250\" height=\"250\" >"
   ]
  },
  {
   "cell_type": "markdown",
   "metadata": {},
   "source": [
    "#### Operadores aritméticos\n",
    "    Operador\tDescripción\n",
    "       +\t      Suma\n",
    "       -\t      Resta\n",
    "       -\t      Negativo\n",
    "       *\t      Multiplicación\n",
    "       **\t      Exponente\n",
    "       /\t      División\n",
    "       //\t      División entera\n",
    "       %\t      Residuo"
   ]
  },
  {
   "cell_type": "code",
   "execution_count": 27,
   "metadata": {},
   "outputs": [
    {
     "data": {
      "text/plain": [
       "'holamundo'"
      ]
     },
     "execution_count": 27,
     "metadata": {},
     "output_type": "execute_result"
    }
   ],
   "source": [
    "\"hola\" + \"mundo\""
   ]
  },
  {
   "cell_type": "code",
   "execution_count": 28,
   "metadata": {},
   "outputs": [
    {
     "data": {
      "text/plain": [
       "'holahola'"
      ]
     },
     "execution_count": 28,
     "metadata": {},
     "output_type": "execute_result"
    }
   ],
   "source": [
    "\"hola\" * 2"
   ]
  },
  {
   "cell_type": "markdown",
   "metadata": {},
   "source": [
    "    Operador\tUso           Evalúa\n",
    "       ==\t   a == b      ¿a igual a b?\n",
    "       !=\t   a != b      ¿a distinta de b?\n",
    "       >\t    a > b       ¿a mayor que b?\n",
    "       <\t    a < b       ¿a menor que b?\n",
    "       >=\t   a >= b      ¿a mayor o igual que b?\n",
    "       <=\t   a <= b      ¿a menor o igual que b?"
   ]
  },
  {
   "cell_type": "markdown",
   "metadata": {},
   "source": [
    "    Operador\t Uso           Evalúa\n",
    "       or         a or b     ¿Se cumplen a o b?\n",
    "       and\t    a and b     ¿Se comple a y b?\n",
    "       not\t    not x       Contrario a x"
   ]
  },
  {
   "cell_type": "code",
   "execution_count": 29,
   "metadata": {},
   "outputs": [],
   "source": [
    "# Mas Referencias\n",
    "\n",
    "# https://pythonista.io/cursos/py101/tipos-de-datos-basicos-y-operadores"
   ]
  },
  {
   "cell_type": "markdown",
   "metadata": {},
   "source": [
    "# Ejemplo de una clase\n",
    "\n",
    "self es una convención podríamos usar cualquier nombre pero no es recomendabl"
   ]
  },
  {
   "cell_type": "code",
   "execution_count": 32,
   "metadata": {},
   "outputs": [
    {
     "name": "stdout",
     "output_type": "stream",
     "text": [
      "Luego de la asignación local: algo de prueba\n",
      "Luego de la asignación no local: algo no local\n",
      "Luego de la asignación global: algo no local\n",
      "In global scope: algo global\n"
     ]
    }
   ],
   "source": [
    "def prueba_ambitos():\n",
    "    \n",
    "    def hacer_local():\n",
    "        algo = \"algo local\"\n",
    "        \n",
    "    def hacer_nonlocal():\n",
    "        nonlocal algo\n",
    "        algo = \"algo no local\"\n",
    "        \n",
    "    def hacer_global():\n",
    "        global algo\n",
    "        algo = \"algo global\"\n",
    "        \n",
    "    algo = \"algo de prueba\"\n",
    "    \n",
    "    hacer_local()\n",
    "    print(\"Luego de la asignación local:\", algo)\n",
    "    \n",
    "    hacer_nonlocal()\n",
    "    print(\"Luego de la asignación no local:\", algo)\n",
    "    \n",
    "    hacer_global()\n",
    "    print(\"Luego de la asignación global:\", algo)\n",
    "\n",
    "prueba_ambitos()\n",
    "print(\"In global scope:\", algo)"
   ]
  },
  {
   "cell_type": "code",
   "execution_count": 37,
   "metadata": {},
   "outputs": [],
   "source": [
    "class Perro():\n",
    "\n",
    "    tipo = 'canino'                 # variable de clase compartida por todas las instancias\n",
    "\n",
    "    def __init__(self, nombre):\n",
    "        self.nombre = nombre        # variable de instancia única para la instancia"
   ]
  },
  {
   "cell_type": "code",
   "execution_count": 38,
   "metadata": {},
   "outputs": [
    {
     "data": {
      "text/plain": [
       "('canino', 'Fido')"
      ]
     },
     "execution_count": 38,
     "metadata": {},
     "output_type": "execute_result"
    }
   ],
   "source": [
    "d = Perro('Fido')\n",
    "d.tipo , d.nombre"
   ]
  },
  {
   "cell_type": "code",
   "execution_count": 45,
   "metadata": {},
   "outputs": [],
   "source": [
    "class Bolsa():\n",
    "    def __init__(self):\n",
    "        self.datos = []\n",
    "    def agregar(self, x):\n",
    "        self.datos.append(x)\n",
    "    def dobleagregar(self, x):\n",
    "        self.agregar(x)\n",
    "        self.agregar(x)"
   ]
  },
  {
   "cell_type": "code",
   "execution_count": 46,
   "metadata": {},
   "outputs": [],
   "source": [
    "a = Bolsa()"
   ]
  },
  {
   "cell_type": "code",
   "execution_count": 50,
   "metadata": {},
   "outputs": [
    {
     "data": {
      "text/plain": [
       "[3]"
      ]
     },
     "execution_count": 50,
     "metadata": {},
     "output_type": "execute_result"
    }
   ],
   "source": [
    "a.datos"
   ]
  },
  {
   "cell_type": "code",
   "execution_count": 49,
   "metadata": {},
   "outputs": [],
   "source": [
    "a.agregar(3)"
   ]
  },
  {
   "cell_type": "code",
   "execution_count": 51,
   "metadata": {},
   "outputs": [
    {
     "data": {
      "text/plain": [
       "__main__.Bolsa"
      ]
     },
     "execution_count": 51,
     "metadata": {},
     "output_type": "execute_result"
    }
   ],
   "source": [
    "type(a)"
   ]
  },
  {
   "cell_type": "code",
   "execution_count": 53,
   "metadata": {},
   "outputs": [],
   "source": [
    "#                      .-=-.          .--.\n",
    "#          __        .'     '.       /  \" )\n",
    "#  _     .'  '.     /   .-.   \\     /  .-'\\\n",
    "# ( \\   / .-.  \\   /   /   \\   \\   /  /    ^\n",
    "#  \\ `-` /   \\  `-'   /     \\   `-`  /\n",
    "#   `-.-`     '.____.'       `.____.'"
   ]
  },
  {
   "cell_type": "code",
   "execution_count": 61,
   "metadata": {},
   "outputs": [],
   "source": [
    "class Persona(object):\n",
    "    \"Clase que representa una persona.\"\n",
    "    def __init__(self, identificacion, nombre, apellido):\n",
    "        \"Constructor de Persona\"\n",
    "        self.identificacion = identificacion\n",
    "        self.nombre = nombre\n",
    "        self.apellido = apellido\n",
    "    def __str__(self):\n",
    "        return \" %s: %s, %s\" % (str(self.identificacion), self.apellido, self.nombre)"
   ]
  },
  {
   "cell_type": "code",
   "execution_count": 62,
   "metadata": {},
   "outputs": [],
   "source": [
    "class AlumnoFIUBA(Persona):\n",
    "    \"Clase que representa a un alumno de FIUBA.\"\n",
    "    def __init__(self, identificacion, nombre, apellido, padron):\n",
    "        \"Constructor de AlumnoFIUBA\"\n",
    "        # llamamos al constructor de Persona\n",
    "        Persona.__init__(self, identificacion, nombre, apellido)\n",
    "        # agregamos el nuevo atributo\n",
    "        self.padron = padron"
   ]
  },
  {
   "cell_type": "code",
   "execution_count": 63,
   "metadata": {},
   "outputs": [
    {
     "name": "stdout",
     "output_type": "stream",
     "text": [
      " DNI 35123456: Thorn, Damien\n"
     ]
    }
   ],
   "source": [
    "a = AlumnoFIUBA(\"DNI 35123456\", \"Damien\", \"Thorn\", \"98765\")\n",
    "print(a)"
   ]
  },
  {
   "cell_type": "code",
   "execution_count": null,
   "metadata": {},
   "outputs": [],
   "source": []
  }
 ],
 "metadata": {
  "kernelspec": {
   "display_name": "Python 3",
   "language": "python",
   "name": "python3"
  },
  "language_info": {
   "codemirror_mode": {
    "name": "ipython",
    "version": 3
   },
   "file_extension": ".py",
   "mimetype": "text/x-python",
   "name": "python",
   "nbconvert_exporter": "python",
   "pygments_lexer": "ipython3",
   "version": "3.7.1"
  },
  "toc": {
   "base_numbering": 1,
   "nav_menu": {},
   "number_sections": false,
   "sideBar": true,
   "skip_h1_title": false,
   "title_cell": "Table of Contents",
   "title_sidebar": "Contents",
   "toc_cell": false,
   "toc_position": {
    "height": "calc(100% - 180px)",
    "left": "10px",
    "top": "150px",
    "width": "280px"
   },
   "toc_section_display": true,
   "toc_window_display": true
  }
 },
 "nbformat": 4,
 "nbformat_minor": 2
}
