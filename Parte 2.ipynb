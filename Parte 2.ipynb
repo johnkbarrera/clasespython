{
 "cells": [
  {
   "cell_type": "code",
   "execution_count": null,
   "metadata": {},
   "outputs": [],
   "source": []
  },
  {
   "cell_type": "markdown",
   "metadata": {},
   "source": [
    "# PARTE 2"
   ]
  },
  {
   "cell_type": "markdown",
   "metadata": {},
   "source": [
    "## Listas\n",
    "\n",
    "<img src=\"images/listas_python.jpg\" align=\"left\" width=\"600\" height=\"600\" >"
   ]
  },
  {
   "cell_type": "code",
   "execution_count": 1,
   "metadata": {},
   "outputs": [],
   "source": [
    "listas_vacia = []"
   ]
  },
  {
   "cell_type": "code",
   "execution_count": 2,
   "metadata": {},
   "outputs": [],
   "source": [
    "phi= 3.14159\n",
    "lista = [1, phi , 'UP', [1,2,3] , True, 2.72, False]"
   ]
  },
  {
   "cell_type": "markdown",
   "metadata": {},
   "source": [
    "## Metodo input()\n",
    "\n",
    "Capturar datos en python y guardarlas en una variable. \n",
    "\n",
    "<img src=\"images/captura_dato.jpg\" align=\"left\">"
   ]
  },
  {
   "cell_type": "code",
   "execution_count": 3,
   "metadata": {},
   "outputs": [
    {
     "name": "stdout",
     "output_type": "stream",
     "text": [
      "¿Cómo se llama usted?\n",
      "juan\n"
     ]
    }
   ],
   "source": [
    "print(\"¿Cómo se llama usted?\")\n",
    "nombre = input()"
   ]
  },
  {
   "cell_type": "code",
   "execution_count": 4,
   "metadata": {},
   "outputs": [
    {
     "name": "stdout",
     "output_type": "stream",
     "text": [
      "Bienvenido juan\n"
     ]
    }
   ],
   "source": [
    "print(\"Bienvenido \"+ nombre)"
   ]
  },
  {
   "cell_type": "markdown",
   "metadata": {},
   "source": [
    "## Condición if - else\n"
   ]
  },
  {
   "cell_type": "markdown",
   "metadata": {},
   "source": [
    "### Ejemplo 1: \n",
    "\n",
    "Flujograma para determinar si un número es par o impar.\n",
    "\n",
    "\n",
    "<img src=\"images/if_else_par.png\" align=\"left\" width=\"600\" height=\"600\" >\n"
   ]
  },
  {
   "cell_type": "code",
   "execution_count": 5,
   "metadata": {},
   "outputs": [
    {
     "name": "stdout",
     "output_type": "stream",
     "text": [
      "Ingrese un número: \n",
      "247\n"
     ]
    }
   ],
   "source": [
    "print(\"Ingrese un número: \")\n",
    "N = input()"
   ]
  },
  {
   "cell_type": "code",
   "execution_count": 6,
   "metadata": {},
   "outputs": [
    {
     "name": "stdout",
     "output_type": "stream",
     "text": [
      "<class 'str'>\n"
     ]
    }
   ],
   "source": [
    "print(type(N))\n",
    "N = int(N)           # Convertimos N en entero"
   ]
  },
  {
   "cell_type": "code",
   "execution_count": 7,
   "metadata": {},
   "outputs": [
    {
     "name": "stdout",
     "output_type": "stream",
     "text": [
      "IMPAR\n"
     ]
    }
   ],
   "source": [
    "# Flujo de Datos\n",
    "if (N%2) == 0:\n",
    "    print(\"PAR\")\n",
    "else:\n",
    "    print(\"IMPAR\")"
   ]
  },
  {
   "cell_type": "code",
   "execution_count": null,
   "metadata": {},
   "outputs": [],
   "source": []
  },
  {
   "cell_type": "markdown",
   "metadata": {},
   "source": [
    "### Ejemplo 2:\n",
    "Flujograma para determinar si un alumno esta aprobado o no, en base a su nota.\n",
    "\n",
    "<img src=\"images/if_else.jpg\" align=\"left\">\n",
    "\n"
   ]
  },
  {
   "cell_type": "code",
   "execution_count": 8,
   "metadata": {},
   "outputs": [
    {
     "name": "stdout",
     "output_type": "stream",
     "text": [
      "Ingrese su nota: \n",
      "16.8\n"
     ]
    }
   ],
   "source": [
    "# Ingresamos una nota (calificación)\n",
    "estado = \"No sabemos\"\n",
    "print(\"Ingrese su nota: \")\n",
    "cal = input()\n",
    "cal = float(cal)"
   ]
  },
  {
   "cell_type": "code",
   "execution_count": 9,
   "metadata": {},
   "outputs": [
    {
     "name": "stdout",
     "output_type": "stream",
     "text": [
      "El alumno esta Aprobado\n"
     ]
    }
   ],
   "source": [
    "# Flujo de Datos\n",
    "if cal >= 14:\n",
    "    estado = \"Aprobado\"\n",
    "else:\n",
    "    estado = \"Reprobado\"\n",
    "    \n",
    "print(\"El alumno esta \"+estado)"
   ]
  },
  {
   "cell_type": "markdown",
   "metadata": {},
   "source": [
    "### Ejercicios"
   ]
  },
  {
   "cell_type": "markdown",
   "metadata": {},
   "source": [
    "**Realize el algoritmo para determinar si un Año es Bisiesto**"
   ]
  },
  {
   "cell_type": "raw",
   "metadata": {},
   "source": [
    "<img src=\"images/bisiesto.jpg\" align=\"left\">"
   ]
  },
  {
   "cell_type": "raw",
   "metadata": {},
   "source": []
  },
  {
   "cell_type": "markdown",
   "metadata": {},
   "source": [
    "## For & While"
   ]
  },
  {
   "cell_type": "markdown",
   "metadata": {},
   "source": [
    "<img src=\"images/loop.jpg\" align=\"left\"  width=\"300\" height=\"300\">"
   ]
  },
  {
   "cell_type": "code",
   "execution_count": 3,
   "metadata": {
    "scrolled": false
   },
   "outputs": [
    {
     "name": "stdout",
     "output_type": "stream",
     "text": [
      "1\n",
      "2\n",
      "3\n",
      "4\n",
      "5\n",
      "6\n",
      "7\n",
      "8\n",
      "9\n"
     ]
    }
   ],
   "source": [
    "lista = range(1,10)\n",
    "\n",
    "for elemento in lista:\n",
    "    print(elemento)"
   ]
  },
  {
   "cell_type": "code",
   "execution_count": 20,
   "metadata": {},
   "outputs": [
    {
     "name": "stdout",
     "output_type": "stream",
     "text": [
      "La posición: 0 tiene un valor de: A\n",
      "La posición: 1 tiene un valor de: B\n",
      "La posición: 2 tiene un valor de: C\n",
      "La posición: 3 tiene un valor de: D\n",
      "La posición: 4 tiene un valor de: E\n",
      "La posición: 5 tiene un valor de: F\n",
      "La posición: 6 tiene un valor de: G\n"
     ]
    }
   ],
   "source": [
    "lista2 = [\"A\",\"B\",\"C\",\"D\",\"E\",\"F\",\"G\"]\n",
    "\n",
    "tamaño_lista2 = len(lista2)\n",
    "\n",
    "for i in range(tamaño_lista2):\n",
    "    \n",
    "    print(\"La posición:\",i,\"tiene un valor de:\", lista2[i])\n"
   ]
  },
  {
   "cell_type": "markdown",
   "metadata": {},
   "source": [
    "## Algoritmo de la amistad "
   ]
  },
  {
   "cell_type": "markdown",
   "metadata": {},
   "source": [
    "<img src=\"images/sheldom.jpg\" align=\"left\">\n",
    "<img src=\"images/sheldom2.jpg\" align=\"left\">"
   ]
  },
  {
   "cell_type": "markdown",
   "metadata": {},
   "source": [
    "# MAS EJEMPLO DE LA CLASE"
   ]
  },
  {
   "cell_type": "code",
   "execution_count": 1,
   "metadata": {},
   "outputs": [
    {
     "name": "stdout",
     "output_type": "stream",
     "text": [
      "ingrese pos: \n",
      "1\n",
      "ingrese sub_pos: \n",
      "23\n",
      "El valor en la posicion 1 es 4j\n"
     ]
    }
   ],
   "source": [
    "L1 = [ 1, 3.14, \"Hola mundo\", True, 5j]\n",
    "L2 = [3, 4j, L1]\n",
    "\n",
    "print(\"ingrese pos: \")\n",
    "pos = int(input())   # esto es un entero\n",
    "print(\"ingrese sub_pos: \")\n",
    "sub_pos = input()   # esto es un texto\n",
    "\n",
    "print(\"El valor en la posicion\",pos,\"es\",L2[pos])"
   ]
  },
  {
   "cell_type": "code",
   "execution_count": null,
   "metadata": {},
   "outputs": [],
   "source": []
  },
  {
   "cell_type": "code",
   "execution_count": 2,
   "metadata": {},
   "outputs": [
    {
     "name": "stdout",
     "output_type": "stream",
     "text": [
      "ingrese un año: \n",
      "2018\n",
      "2018 Año no bisiesto\n"
     ]
    }
   ],
   "source": [
    "# año bisiesto\n",
    "\n",
    "print(\"ingrese un año: \")\n",
    "año = int(input())\n",
    "tipo = \"no sabemos\"\n",
    "\n",
    "if año % 4 == 0:\n",
    "    if año % 100 == 0:\n",
    "        if año % 400 == 0:\n",
    "            tipo = \"Año no bisiesto\"\n",
    "        else:\n",
    "            tipo = \"Año bisiesto\"\n",
    "    else:\n",
    "        tipo = \"Año bisiesto\"\n",
    "else:\n",
    "    tipo = \"Año no bisiesto\"\n",
    "\n",
    "print(año,tipo)"
   ]
  },
  {
   "cell_type": "code",
   "execution_count": null,
   "metadata": {},
   "outputs": [],
   "source": []
  }
 ],
 "metadata": {
  "kernelspec": {
   "display_name": "Python 3",
   "language": "python",
   "name": "python3"
  },
  "language_info": {
   "codemirror_mode": {
    "name": "ipython",
    "version": 3
   },
   "file_extension": ".py",
   "mimetype": "text/x-python",
   "name": "python",
   "nbconvert_exporter": "python",
   "pygments_lexer": "ipython3",
   "version": "3.7.1"
  }
 },
 "nbformat": 4,
 "nbformat_minor": 2
}
