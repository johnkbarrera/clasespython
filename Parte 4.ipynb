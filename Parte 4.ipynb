{
 "cells": [
  {
   "cell_type": "code",
   "execution_count": null,
   "metadata": {},
   "outputs": [],
   "source": []
  },
  {
   "cell_type": "markdown",
   "metadata": {},
   "source": [
    "# PARTE 4"
   ]
  },
  {
   "cell_type": "markdown",
   "metadata": {},
   "source": [
    "## Métodos y Funciones\n",
    "\n",
    "**Una función es una porción o bloque de código reutilizable que se encarga de realizar una determinada tarea.**\n",
    "\n",
    "<img src=\"images/funciones.jpg\" align=\"left\" width=\"500\" >\n"
   ]
  },
  {
   "cell_type": "code",
   "execution_count": 5,
   "metadata": {},
   "outputs": [
    {
     "data": {
      "text/plain": [
       "27"
      ]
     },
     "execution_count": 5,
     "metadata": {},
     "output_type": "execute_result"
    }
   ],
   "source": [
    "lista = ['a','b','c','d','e','f','g','h','i','j','k','l','m','n','ñ','o','p','q','r','s','t','u','v','w','x','y','z',]"
   ]
  },
  {
   "cell_type": "code",
   "execution_count": 1,
   "metadata": {},
   "outputs": [],
   "source": [
    "def suma (a,b):\n",
    "    respuesta = a + b\n",
    "    return respuesta"
   ]
  },
  {
   "cell_type": "code",
   "execution_count": 2,
   "metadata": {},
   "outputs": [
    {
     "data": {
      "text/plain": [
       "7"
      ]
     },
     "execution_count": 2,
     "metadata": {},
     "output_type": "execute_result"
    }
   ],
   "source": [
    "suma(2,5)"
   ]
  },
  {
   "cell_type": "code",
   "execution_count": 13,
   "metadata": {},
   "outputs": [
    {
     "name": "stdout",
     "output_type": "stream",
     "text": [
      "° ° ° ° ° ° ° ° ° ° \n",
      "° ° ° ° ° ° ° ° ° ° \n",
      "° ° ° ° ° ° ° ° ° ° \n",
      "° ° ° ° ° ° ° ° ° ° \n",
      "° ° ° ° ° ° ° ° ° ° \n",
      "° ° ° ° ° ° ° ° ° ° \n",
      "° ° ° ° ° ° ° ° ° ° \n",
      "° ° ° ° ° ° ° ° ° ° \n",
      "° ° ° ° ° ° ° ° ° ° \n",
      "° ° ° ° ° ° ° ° ° ° \n"
     ]
    }
   ],
   "source": [
    "\n",
    "def cuadrilatero (lado, simbolo):\n",
    "    lado = int(lado)\n",
    "    simbolo = str(simbolo)\n",
    "    \n",
    "    lista = \"\"\n",
    "    \n",
    "    for i in range( 1, lado + 1):\n",
    "        lista = lista + simbolo + \" \"\n",
    "        \n",
    "    for i in range( 1, lado + 1):\n",
    "        print(lista)\n",
    "        \n",
    "cuadrilatero(10,\"°\")"
   ]
  },
  {
   "cell_type": "markdown",
   "metadata": {},
   "source": [
    "## Series de Finonacci"
   ]
  },
  {
   "cell_type": "markdown",
   "metadata": {},
   "source": [
    "### Modo Iterativo - eficiente"
   ]
  },
  {
   "cell_type": "code",
   "execution_count": 4,
   "metadata": {},
   "outputs": [
    {
     "name": "stdout",
     "output_type": "stream",
     "text": [
      "ingrese posicion: \n",
      "89\n",
      "2880067194370816120\n"
     ]
    }
   ],
   "source": [
    "def fibo(pos):\n",
    "    f1 = 1   # alejado una posicion de pos\n",
    "    f2 = 1   # alejado dos posicion de pos\n",
    "    if pos<=1:\n",
    "        return 1\n",
    "    help = 0\n",
    "    for i in range(1,pos):\n",
    "        help = f1 + f2\n",
    "        f2 = f1\n",
    "        f1 = help\n",
    "    return help\n",
    "\n",
    "print(\"ingrese posicion: \")\n",
    "n = int(input())\n",
    "print(fibo(n))"
   ]
  },
  {
   "cell_type": "markdown",
   "metadata": {},
   "source": [
    "### Modo Recursivo - exige muhco procesamiento"
   ]
  },
  {
   "cell_type": "code",
   "execution_count": 5,
   "metadata": {},
   "outputs": [
    {
     "name": "stdout",
     "output_type": "stream",
     "text": [
      "ingrese posicion: \n",
      "23\n",
      "46368\n"
     ]
    }
   ],
   "source": [
    "def fibo(pos):\n",
    "    if pos == 0:\n",
    "        return(1)\n",
    "    if pos == 1:\n",
    "        return(1)\n",
    "\n",
    "    return(fibo(pos-1) + fibo(pos-2))\n",
    "\n",
    "print(\"ingrese posicion: \")\n",
    "n = int(input())\n",
    "print(fibo(n))"
   ]
  },
  {
   "cell_type": "code",
   "execution_count": null,
   "metadata": {},
   "outputs": [],
   "source": []
  }
 ],
 "metadata": {
  "kernelspec": {
   "display_name": "Python 3",
   "language": "python",
   "name": "python3"
  },
  "language_info": {
   "codemirror_mode": {
    "name": "ipython",
    "version": 3
   },
   "file_extension": ".py",
   "mimetype": "text/x-python",
   "name": "python",
   "nbconvert_exporter": "python",
   "pygments_lexer": "ipython3",
   "version": "3.7.1"
  }
 },
 "nbformat": 4,
 "nbformat_minor": 2
}
