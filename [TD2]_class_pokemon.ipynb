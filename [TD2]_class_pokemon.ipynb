{
 "cells": [
  {
   "cell_type": "markdown",
   "metadata": {},
   "source": [
    "# Cookbook: Creando pokémones\n",
    "\n",
    "Ingredientes:\n",
    "    1. Jupyter notebook\n",
    "    2. Python3\n",
    "    3. Notebook\n",
    "\n",
    "Resultado: objetos de tipo pokémon \n",
    "\n",
    "<img src=\"images/pokemon.png\">\n",
    "\n"
   ]
  },
  {
   "cell_type": "markdown",
   "metadata": {},
   "source": [
    "## Representación UML\n",
    "\n",
    "<img src=\"images/pokemon_class.png\">\n"
   ]
  },
  {
   "cell_type": "code",
   "execution_count": 16,
   "metadata": {},
   "outputs": [],
   "source": [
    "## Paso 1: declarar las clases y atributos\n",
    "\n",
    "class Pokemon(object):\n",
    "    \"\"\" Esta clase modela a un pokemon\n",
    "    \n",
    "        Atributos:\n",
    "            nombre   : nombre del pokemon\n",
    "            fortaleza: fuerza física del pokemon \n",
    "            agilidad : cuan agil es el pokemon \n",
    "            precisión: cuan certero es su ataque\n",
    "    \"\"\"\n",
    "    \n",
    "    ## Paso 2: declarar el método constructor vacio\n",
    "    def __init__(self):\n",
    "        self.aNombre    = \"Sin nombre\"\n",
    "        self.aFortaleza = 0\n",
    "        self.aAgilidad  = 0\n",
    "        self.aPrecision = 0\n",
    "        \n",
    "    ## Paso 3: declarar las propiedades para manipular los atributos\n",
    "    @property\n",
    "    def nombre(self):\n",
    "        return self.aNombre\n",
    "\n",
    "    @nombre.setter\n",
    "    def nombre(self, pNombre):\n",
    "        #Verificamos que el nombre del pókemon no exceda 15 caracteres\n",
    "        if (len(pNombre)<15):\n",
    "            self.aNombre = pNombre\n",
    "        else:\n",
    "            #si el nombre excede 15 caracteres lo cortamos\n",
    "            self.aNombre = pNombre[0:14]\n",
    "            \n",
    "    @property\n",
    "    def fortaleza(self):\n",
    "        return self.aFortaleza\n",
    "    @fortaleza.setter\n",
    "    def fortaleza(self,pFortaleza):\n",
    "        if pFortaleza > 100:\n",
    "            self.aFortaleza = 100\n",
    "        elif pFortaleza < 0:\n",
    "            self.aFortaleza = 0\n",
    "        else:\n",
    "            self.aFortaleza = pFortaleza\n",
    "        \n",
    "    @property\n",
    "    def agilidad(self):\n",
    "        return self.aAgilidad\n",
    "    @agilidad.setter\n",
    "    def agilidad(self,pAgilidad):\n",
    "        if pAgilidad > 5:\n",
    "            self.aAgilidad = 5\n",
    "        elif pAgilidad < 0:\n",
    "            self.aAgilidad = 0\n",
    "        else:\n",
    "            self.aAgilidad = pAgilidad\n",
    "        \n",
    "    @property\n",
    "    def precision(self):\n",
    "        return self.aPrecision\n",
    "    @precision.setter\n",
    "    def precision(self,pPrecision):\n",
    "        if pPrecision > 100:\n",
    "            self.aPrecision = 100\n",
    "        elif pPrecision < 0:\n",
    "            self.aPrecision = 0\n",
    "        else:\n",
    "            self.aPrecision = pPrecision\n",
    "    \n",
    "    \n",
    "    ## Paso 4: declarar otros metodos\n",
    "    \n",
    "    def atacar(self):\n",
    "        print (\"Soy el pokémon {} y voy al ataque!!! Mi fortaleza es {}, mi agilidad es {} y mi precision es {}\".format(\n",
    "            self.nombre,    \n",
    "            self.fortaleza, \n",
    "            self.agilidad,  \n",
    "            self.precision \n",
    "        ))\n",
    "        \n",
    "    def atacadoPor (self, pokemonAtacante):\n",
    "        print (\"Soy el pokémon {}. Me ataca {} , su fortaleza es {}, su agilidad es {}  y su precision es {}\".format(\n",
    "            self.nombre,\n",
    "            pokemonAtacante.nombre,\n",
    "            pokemonAtacante.fortaleza, \n",
    "            pokemonAtacante.agilidad,  \n",
    "            pokemonAtacante.precision \n",
    "        ))"
   ]
  },
  {
   "cell_type": "markdown",
   "metadata": {},
   "source": [
    "## Tiempo de una batalla pokémon !!!!!\n",
    "<img src=\"images/lucha.jpg\">"
   ]
  },
  {
   "cell_type": "code",
   "execution_count": 17,
   "metadata": {},
   "outputs": [
    {
     "name": "stdout",
     "output_type": "stream",
     "text": [
      "<__main__.Pokemon object at 0x103e03cc0>\n"
     ]
    }
   ],
   "source": [
    "## Instanciamos un primer pokemon\n",
    "pokemon1 = Pokemon()\n",
    "print(pokemon1)"
   ]
  },
  {
   "cell_type": "code",
   "execution_count": 18,
   "metadata": {},
   "outputs": [
    {
     "name": "stdout",
     "output_type": "stream",
     "text": [
      "Soy el pokémon Sin nombre, mi fortaleza es 0,  mi agilidad es 0 y mi precision es 0\n"
     ]
    }
   ],
   "source": [
    "## Instanciamos un primer pokemon\n",
    "pokemon1 = Pokemon()\n",
    "\n",
    "## Mostramos el valor de los atributos del objeto pokeon1\n",
    "print (\"Soy el pokémon {}, mi fortaleza es {},  mi agilidad es {} y mi precision es {}\".format(\n",
    "            pokemon1.nombre,    \n",
    "            pokemon1.fortaleza, \n",
    "            pokemon1.agilidad,  \n",
    "            pokemon1.precision \n",
    "        ))\n"
   ]
  },
  {
   "cell_type": "code",
   "execution_count": 19,
   "metadata": {},
   "outputs": [
    {
     "name": "stdout",
     "output_type": "stream",
     "text": [
      "Soy el pokémon Squirtle, mi fortaleza es 70, mi agilidad es 5 y mi precision es 0\n"
     ]
    }
   ],
   "source": [
    "##Le damos valores a los atributos del objeto pokemon1\n",
    "pokemon1.nombre = \"Squirtle\"\n",
    "pokemon1.fortaleza = 70 \n",
    "pokemon1.agilidad  = 1000  \n",
    "pokemon1.precision = -200\n",
    "\n",
    "## Mostramos el valor de los atributos del objeto pokeon1\n",
    "print (\"Soy el pokémon {}, mi fortaleza es {}, mi agilidad es {} y mi precision es {}\".format(\n",
    "            pokemon1.nombre,    \n",
    "            pokemon1.fortaleza, \n",
    "            pokemon1.agilidad,  \n",
    "            pokemon1.precision \n",
    "        ))"
   ]
  },
  {
   "cell_type": "code",
   "execution_count": 20,
   "metadata": {},
   "outputs": [
    {
     "name": "stdout",
     "output_type": "stream",
     "text": [
      "Soy el pokémon Charmander, mi fortaleza es 65,n mi agilidad es 5 y mi precision es 80\n"
     ]
    }
   ],
   "source": [
    "## Instanciamos un segundo pokemon\n",
    "pokemon2 = Pokemon()\n",
    "\n",
    "##Le damos valores a los atributos del objeto pokemon2\n",
    "pokemon2.nombre = \"Charmander\"\n",
    "pokemon2.fortaleza = 65 \n",
    "pokemon2.agilidad  = 95  \n",
    "pokemon2.precision = 80\n",
    "\n",
    "## Mostramos el valor de los atributos del objeto pokeon2\n",
    "print (\"Soy el pokémon {}, mi fortaleza es {},n mi agilidad es {} y mi precision es {}\".format(\n",
    "            pokemon2.nombre,    \n",
    "            pokemon2.fortaleza, \n",
    "            pokemon2.agilidad,  \n",
    "            pokemon2.precision \n",
    "        ))"
   ]
  },
  {
   "cell_type": "markdown",
   "metadata": {},
   "source": [
    "## Fight, fight, fight !!!\n",
    "<img src=\"images/Charmander_usando_Lanzallamas.png\">"
   ]
  },
  {
   "cell_type": "code",
   "execution_count": 21,
   "metadata": {},
   "outputs": [
    {
     "name": "stdout",
     "output_type": "stream",
     "text": [
      "Soy el pokémon Charmander y voy al ataque!!! Mi fortaleza es 65, mi agilidad es 5 y mi precision es 80\n"
     ]
    }
   ],
   "source": [
    "pokemon2.atacar()"
   ]
  },
  {
   "cell_type": "code",
   "execution_count": 22,
   "metadata": {},
   "outputs": [
    {
     "name": "stdout",
     "output_type": "stream",
     "text": [
      "Soy el pokémon Squirtle. Me ataca Charmander , su fortaleza es 65, su agilidad es 5  y su precision es 80\n"
     ]
    }
   ],
   "source": [
    "pokemon1.atacadoPor(pokemon2)"
   ]
  },
  {
   "cell_type": "markdown",
   "metadata": {},
   "source": [
    "<img src=\"images/ataque.png\" height=\"400\" width=\"400\">"
   ]
  },
  {
   "cell_type": "code",
   "execution_count": 12,
   "metadata": {},
   "outputs": [
    {
     "name": "stdout",
     "output_type": "stream",
     "text": [
      "Soy el pokémon {} y voy al ataque!!!. Mi fortaleza es {}, mi agilidad es {} y mi precision es Squirtle\n"
     ]
    }
   ],
   "source": [
    "pokemon1.atacar()"
   ]
  },
  {
   "cell_type": "code",
   "execution_count": 29,
   "metadata": {},
   "outputs": [
    {
     "name": "stdout",
     "output_type": "stream",
     "text": [
      "Soy el pokémon Charmander. Me ataca Squirtle, su fortaleza es 70, su agilidad es 5 y su precision es 0\n"
     ]
    }
   ],
   "source": [
    "pokemon2.atacadoPor(pokemon1)"
   ]
  },
  {
   "cell_type": "markdown",
   "metadata": {},
   "source": [
    "## Preguntas:\n",
    "\n",
    "    1. Self? : Entonces, ¿qué pasa con ese parámetro \"self\" para todos los métodos de pokémon?\n",
    "        Dicho de otra manera, un método como el \"ataque\" define las instrucciones para que un pokémon ataque. Llamar a pokemon2.atacar() pone esas instrucciones para usar en la instancia de pokemon2.\n",
    "    2. __init__ ?: Cuando llamamos a __init__, estamos en el proceso de crear un objeto, entonces ¿cómo puede haber un \"self\"? Python nos permite extender el patrón de \"self\" cuando también se construyen los objetos, aunque no encaja exactamente. Imagina que pokemon1 = Pokemon() es igual a pokemon1 = Pokemon(pokemon1)"
   ]
  },
  {
   "cell_type": "code",
   "execution_count": null,
   "metadata": {},
   "outputs": [],
   "source": []
  }
 ],
 "metadata": {
  "kernelspec": {
   "display_name": "Python 3",
   "language": "python",
   "name": "python3"
  },
  "language_info": {
   "codemirror_mode": {
    "name": "ipython",
    "version": 3
   },
   "file_extension": ".py",
   "mimetype": "text/x-python",
   "name": "python",
   "nbconvert_exporter": "python",
   "pygments_lexer": "ipython3",
   "version": "3.6.6"
  }
 },
 "nbformat": 4,
 "nbformat_minor": 2
}
