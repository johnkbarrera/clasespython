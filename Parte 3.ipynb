{
 "cells": [
  {
   "cell_type": "code",
   "execution_count": null,
   "metadata": {},
   "outputs": [],
   "source": []
  },
  {
   "cell_type": "markdown",
   "metadata": {},
   "source": [
    "# PARTE 3"
   ]
  },
  {
   "cell_type": "markdown",
   "metadata": {},
   "source": [
    "## Estructuras repetitivas (Iterativas)\n",
    "\n",
    "<img src=\"images/repetitive.jpg\" align=\"left\" width=\"200\" >\n",
    "<br><br><br>\n",
    "<section>\n",
    "    Existen dos formas popular de hacer iteraciones, **for** y **while**, ambos poseen estructura diferentes, sin embargo podemos con unas cuantas líneas de código podemos manipularlas para realizar el mismo procedimiento y obtener el mismo resultado para una misma entrada, tener en cuenta que, aunque podamos realizar el mismo algoritmos con ella siempre es conveniente usar la estructura que simplifique nuestro problema.\n",
    "</section>"
   ]
  },
  {
   "cell_type": "code",
   "execution_count": 5,
   "metadata": {},
   "outputs": [
    {
     "data": {
      "text/plain": [
       "27"
      ]
     },
     "execution_count": 5,
     "metadata": {},
     "output_type": "execute_result"
    }
   ],
   "source": [
    "lista = ['a','b','c','d','e','f','g','h','i','j','k','l','m','n','ñ','o','p','q','r','s','t','u','v','w','x','y','z',]\n",
    "tamaño = len(lista)\n",
    "tamaño"
   ]
  },
  {
   "cell_type": "code",
   "execution_count": 7,
   "metadata": {},
   "outputs": [
    {
     "name": "stdout",
     "output_type": "stream",
     "text": [
      "pos: 0 valor: a\n",
      "pos: 1 valor: b\n",
      "pos: 2 valor: c\n",
      "pos: 3 valor: d\n",
      "pos: 4 valor: e\n",
      "pos: 5 valor: f\n",
      "pos: 6 valor: g\n",
      "pos: 7 valor: h\n",
      "pos: 8 valor: i\n",
      "pos: 9 valor: j\n",
      "pos: 10 valor: k\n",
      "pos: 11 valor: l\n",
      "pos: 12 valor: m\n",
      "pos: 13 valor: n\n",
      "pos: 14 valor: ñ\n",
      "pos: 15 valor: o\n",
      "pos: 16 valor: p\n",
      "pos: 17 valor: q\n",
      "pos: 18 valor: r\n",
      "pos: 19 valor: s\n",
      "pos: 20 valor: t\n",
      "pos: 21 valor: u\n",
      "pos: 22 valor: v\n",
      "pos: 23 valor: w\n",
      "pos: 24 valor: x\n",
      "pos: 25 valor: y\n",
      "pos: 26 valor: z\n"
     ]
    }
   ],
   "source": [
    "for i in range(tamaño):\n",
    "    print(\"pos:\",i,\"valor:\",lista[i])"
   ]
  },
  {
   "cell_type": "code",
   "execution_count": 9,
   "metadata": {},
   "outputs": [
    {
     "name": "stdout",
     "output_type": "stream",
     "text": [
      "pos: 0 valor: a\n",
      "pos: 1 valor: b\n",
      "pos: 2 valor: c\n",
      "pos: 3 valor: d\n",
      "pos: 4 valor: e\n",
      "pos: 5 valor: f\n",
      "pos: 6 valor: g\n",
      "pos: 7 valor: h\n",
      "pos: 8 valor: i\n",
      "pos: 9 valor: j\n",
      "pos: 10 valor: k\n",
      "pos: 11 valor: l\n",
      "pos: 12 valor: m\n",
      "pos: 13 valor: n\n",
      "pos: 14 valor: ñ\n",
      "pos: 15 valor: o\n",
      "pos: 16 valor: p\n",
      "pos: 17 valor: q\n",
      "pos: 18 valor: r\n",
      "pos: 19 valor: s\n",
      "pos: 20 valor: t\n",
      "pos: 21 valor: u\n",
      "pos: 22 valor: v\n",
      "pos: 23 valor: w\n",
      "pos: 24 valor: x\n",
      "pos: 25 valor: y\n",
      "pos: 26 valor: z\n"
     ]
    }
   ],
   "source": [
    "contador = 0\n",
    "while contador < tamaño:\n",
    "    print(\"pos:\",contador,\"valor:\",lista[contador])\n",
    "    contador = contador +1"
   ]
  },
  {
   "cell_type": "markdown",
   "metadata": {},
   "source": [
    "## Ejemplos"
   ]
  },
  {
   "cell_type": "markdown",
   "metadata": {},
   "source": [
    "### Ejemplo 1: \n",
    "\n",
    "Calculando Suma.\n",
    "\n",
    "\n",
    "<img src=\"images/sumatoria2.jpg\" align=\"left\" width=\"600\" height=\"600\" >\n"
   ]
  },
  {
   "cell_type": "code",
   "execution_count": 5,
   "metadata": {},
   "outputs": [
    {
     "name": "stdout",
     "output_type": "stream",
     "text": [
      "Ingrese un número: \n",
      "247\n"
     ]
    }
   ],
   "source": [
    "print(\"Ingrese un número: \")\n",
    "N = input()"
   ]
  },
  {
   "cell_type": "code",
   "execution_count": null,
   "metadata": {},
   "outputs": [],
   "source": []
  },
  {
   "cell_type": "markdown",
   "metadata": {},
   "source": [
    "## Algoritmo de la amistad "
   ]
  },
  {
   "cell_type": "markdown",
   "metadata": {},
   "source": [
    "<img src=\"images/sheldom.jpg\" align=\"left\">\n",
    "<img src=\"images/sheldom2.jpg\" align=\"left\">"
   ]
  },
  {
   "cell_type": "code",
   "execution_count": null,
   "metadata": {},
   "outputs": [],
   "source": []
  }
 ],
 "metadata": {
  "kernelspec": {
   "display_name": "Python 3",
   "language": "python",
   "name": "python3"
  },
  "language_info": {
   "codemirror_mode": {
    "name": "ipython",
    "version": 3
   },
   "file_extension": ".py",
   "mimetype": "text/x-python",
   "name": "python",
   "nbconvert_exporter": "python",
   "pygments_lexer": "ipython3",
   "version": "3.6.6"
  }
 },
 "nbformat": 4,
 "nbformat_minor": 2
}
