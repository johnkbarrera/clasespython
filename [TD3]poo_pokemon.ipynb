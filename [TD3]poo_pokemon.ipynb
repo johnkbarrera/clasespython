{
 "cells": [
  {
   "cell_type": "markdown",
   "metadata": {},
   "source": [
    "# Cookbook: Afinando pokémones\n",
    "\n",
    "Ingredientes:\n",
    "    1. Jupyter notebook\n",
    "    2. Python3\n",
    "    3. Notebook\n",
    "\n",
    "Resultado: objetos de tipo pokémon \n",
    "\n",
    "<img src=\"images/pokemon.png\">"
   ]
  },
  {
   "cell_type": "code",
   "execution_count": 1,
   "metadata": {},
   "outputs": [],
   "source": [
    "\n",
    "class Pokemon(object):\n",
    "    \"\"\" Esta clase modela a un pokemon\n",
    "    \n",
    "        Atributos:\n",
    "            nombre   : nombre del pokemon\n",
    "            fortaleza: fuerza física del pokemon \n",
    "            agilidad : cuan agil es el pokemon \n",
    "            precisión: cuan certero es su ataque\n",
    "    \"\"\"\n",
    "    \n",
    "    def __init__(self):\n",
    "        self.aNombre    = \"Sin nombre\"\n",
    "        self.aFortaleza = 0\n",
    "        self.aAgilidad  = 0\n",
    "        self.aPrecision = 0\n",
    "        \n",
    "    @property\n",
    "    def nombre(self):\n",
    "        return self.aNombre\n",
    "\n",
    "    @nombre.setter\n",
    "    def nombre(self, pNombre):\n",
    "        #Verificamos que el nombre del pókemon no exceda 15 caracteres\n",
    "        if (len(pNombre)<15):\n",
    "            self.aNombre = pNombre\n",
    "        else:\n",
    "            #si el nombre excede 15 caracteres lo cortamos\n",
    "            self.aNombre = pNombre[0:14]\n",
    "            \n",
    "    @property\n",
    "    def fortaleza(self):\n",
    "        return self.aFortaleza\n",
    "    @fortaleza.setter\n",
    "    def fortaleza(self,pFortaleza):\n",
    "        if pFortaleza > 100:\n",
    "            self.aFortaleza = 100\n",
    "        elif pFortaleza < 0:\n",
    "            self.aFortaleza = 0\n",
    "        else:\n",
    "            self.aFortaleza = pFortaleza\n",
    "        \n",
    "    @property\n",
    "    def agilidad(self):\n",
    "        return self.aAgilidad\n",
    "    @agilidad.setter\n",
    "    def agilidad(self,pAgilidad):\n",
    "        if pAgilidad > 5:\n",
    "            self.aAgilidad = 5\n",
    "        elif pAgilidad < 0:\n",
    "            self.aAgilidad = 0\n",
    "        else:\n",
    "            self.aAgilidad = pAgilidad\n",
    "        \n",
    "    @property\n",
    "    def precision(self):\n",
    "        return self.aPrecision\n",
    "    @precision.setter\n",
    "    def precision(self,pPrecision):\n",
    "        if pPrecision > 100:\n",
    "            self.aPrecision = 100\n",
    "        elif pPrecision < 0:\n",
    "            self.aPrecision = 0\n",
    "        else:\n",
    "            self.aPrecision = pPrecision\n",
    "    \n",
    "    \n",
    "    \n",
    "    def atacar(self):\n",
    "        pepe = \"Soy el pokémon {} y voy al ataque!!!.\".format(self.nombre)\n",
    "        pepe += \" Mi fortaleza es {}, mi agilidad es {} \".format(self.fortaleza,self.agilidad)\n",
    "        pepe += \" y mi precision es {}\".format(self.precision)\n",
    "        \n",
    "        print ( pepe )\n",
    "        \n",
    "    def atacadoPor (self, pokemonAtacante):\n",
    "        print (\"Soy el pokémon {}. Me ataca {}, su fortaleza es {}, su agilidad es {} y su precision es {}\".format(\n",
    "            self.nombre,\n",
    "            pokemonAtacante.nombre,\n",
    "            pokemonAtacante.fortaleza, \n",
    "            pokemonAtacante.agilidad,  \n",
    "            pokemonAtacante.precision \n",
    "        ))"
   ]
  },
  {
   "cell_type": "markdown",
   "metadata": {},
   "source": [
    "## Instanciamos un objeto pokemon"
   ]
  },
  {
   "cell_type": "code",
   "execution_count": 2,
   "metadata": {},
   "outputs": [
    {
     "name": "stdout",
     "output_type": "stream",
     "text": [
      "pokemon0: <__main__.Pokemon object at 0x00000215CDE7B048>\n"
     ]
    }
   ],
   "source": [
    "## Instanciamos un primer pokemon\n",
    "pokemon0 = Pokemon()\n",
    "\n",
    "## Mostramos el contenido  del objeto pokeon0\n",
    "print (\"pokemon0: {}\".format(pokemon0))"
   ]
  },
  {
   "cell_type": "markdown",
   "metadata": {},
   "source": [
    "En cuadro anterior nos muestra la dirección del objeto en memoria. Pronto aprenderemos a poner mensajes más utiles"
   ]
  },
  {
   "cell_type": "markdown",
   "metadata": {},
   "source": [
    "## Construyamos una nueva clase Pokemon de agua\n",
    "\n",
    "<img src=\"images/pokemon_class_herencia.png\">"
   ]
  },
  {
   "cell_type": "code",
   "execution_count": 3,
   "metadata": {},
   "outputs": [],
   "source": [
    "class PokemonAgua(Pokemon):\n",
    "    #Constructor\n",
    "    def __init__(self,pNombre,pFortaleza,pAgilidad,pPrecision, pElemento):\n",
    "        self.aNombre    = pNombre\n",
    "        self.aFortaleza = pFortaleza\n",
    "        self.aAgilidad  = pAgilidad\n",
    "        self.aPrecision = pPrecision\n",
    "        self.aElemento  = pElemento\n",
    "        \n",
    "    @property\n",
    "    def elemento(self):\n",
    "        return self.aElemento\n",
    "\n",
    "    @elemento.setter\n",
    "    def elemento(self, pElemento):\n",
    "        self.aElemento = pElemento\n",
    "    \n",
    "    #Sobreescribimos el metodo __repr__()\n",
    "    def __repr__(self):\n",
    "        strPoke = \"Soy {} de tipo {}, mi fortaleza es {} y mi elemento {}\".format(\n",
    "            self.nombre,\n",
    "            type(self),\n",
    "            self.fortaleza,\n",
    "            self.elemento)\n",
    "        return strPoke"
   ]
  },
  {
   "cell_type": "markdown",
   "metadata": {},
   "source": [
    "## Instanciamos un pokémon de agua"
   ]
  },
  {
   "cell_type": "code",
   "execution_count": 4,
   "metadata": {},
   "outputs": [
    {
     "name": "stdout",
     "output_type": "stream",
     "text": [
      "<__main__.Pokemon object at 0x00000215CDE7B710>\n",
      "Soy squirtle de tipo <class '__main__.PokemonAgua'>, mi fortaleza es 20 y mi elemento Agua\n"
     ]
    }
   ],
   "source": [
    "oPokemonAgua = Pokemon()\n",
    "oPokemonAgua.nombre = \"Miguel\"\n",
    "print (oPokemonAgua)\n",
    "oPokemonAgua = PokemonAgua (\"squirtle\",20,30,75,\"Agua\")\n",
    "print (oPokemonAgua)"
   ]
  },
  {
   "cell_type": "code",
   "execution_count": null,
   "metadata": {},
   "outputs": [],
   "source": []
  },
  {
   "cell_type": "code",
   "execution_count": 5,
   "metadata": {},
   "outputs": [],
   "source": [
    "class PokemonFuego(Pokemon):\n",
    "    #Constructor\n",
    "    def __init__(self,pNombre,pFortaleza,pAgilidad,pPrecision, pElemento):\n",
    "        self.aNombre    = pNombre\n",
    "        self.aFortaleza = pFortaleza\n",
    "        self.aAgilidad  = pAgilidad\n",
    "        self.aPrecision = pPrecision\n",
    "        self.aElemento  = pElemento\n",
    "        \n",
    "    @property\n",
    "    def elemento(self):\n",
    "        return self.aElemento\n",
    "\n",
    "    @elemento.setter\n",
    "    def elemento(self, pElemento):\n",
    "        self.aElemento = pElemento\n",
    "    \n",
    "    #Sobreescribimos el metodo __repr__()\n",
    "    def __repr__(self):\n",
    "        strPoke = \"Soy {} de tipo {}, mi fortaleza es {} y mi elemento {}\".format(\n",
    "            self.nombre,\n",
    "            type(self),\n",
    "            self.precision,\n",
    "            self.elemento)\n",
    "        return strPoke"
   ]
  },
  {
   "cell_type": "code",
   "execution_count": 6,
   "metadata": {},
   "outputs": [
    {
     "name": "stdout",
     "output_type": "stream",
     "text": [
      "Soy Charmander de tipo <class '__main__.PokemonFuego'>, mi fortaleza es 78 y mi elemento Fuego\n"
     ]
    }
   ],
   "source": [
    "oPokemonFuego = PokemonFuego (\"Charmander\",25,25,78,\"Fuego\")\n",
    "print (oPokemonFuego)"
   ]
  },
  {
   "cell_type": "markdown",
   "metadata": {},
   "source": [
    "## Tiempo de una batalla pokémon !!!!!\n",
    "<img src=\"images/lucha.jpg\">"
   ]
  },
  {
   "cell_type": "markdown",
   "metadata": {},
   "source": [
    "## Fight, fight, fight !!!\n",
    "<img src=\"images/Charmander_usando_Lanzallamas.png\">"
   ]
  },
  {
   "cell_type": "code",
   "execution_count": 7,
   "metadata": {},
   "outputs": [
    {
     "name": "stdout",
     "output_type": "stream",
     "text": [
      "Soy el pokémon Charmander y voy al ataque!!!. Mi fortaleza es 25, mi agilidad es 25  y mi precision es 78\n"
     ]
    }
   ],
   "source": [
    "oPokemonFuego.atacar()"
   ]
  },
  {
   "cell_type": "code",
   "execution_count": 8,
   "metadata": {},
   "outputs": [
    {
     "name": "stdout",
     "output_type": "stream",
     "text": [
      "Soy el pokémon squirtle. Me ataca Charmander, su fortaleza es 25, su agilidad es 25 y su precision es 78\n"
     ]
    }
   ],
   "source": [
    "oPokemonAgua.atacadoPor(oPokemonFuego)"
   ]
  },
  {
   "cell_type": "markdown",
   "metadata": {},
   "source": [
    "<img src=\"images/ataque.png\" height=\"400\" width=\"400\">"
   ]
  },
  {
   "cell_type": "code",
   "execution_count": 13,
   "metadata": {},
   "outputs": [
    {
     "name": "stdout",
     "output_type": "stream",
     "text": [
      "Soy el pokémon Miguel y voy al ataque!!!. Mi fortaleza es 0, mi agilidad es 0  y mi precision es 0\n"
     ]
    }
   ],
   "source": [
    "oPokemonAgua.atacar()"
   ]
  },
  {
   "cell_type": "code",
   "execution_count": 14,
   "metadata": {},
   "outputs": [
    {
     "name": "stdout",
     "output_type": "stream",
     "text": [
      "Soy el pokémon Charmander. Me ataca Miguel, su fortaleza es 0, su agilidad es 0 y su precision es 0\n"
     ]
    }
   ],
   "source": [
    "oPokemonFuego.atacadoPor(oPokemonAgua)"
   ]
  },
  {
   "cell_type": "markdown",
   "metadata": {},
   "source": [
    "## Creamos un pokemon nuevo agua y furgo"
   ]
  },
  {
   "cell_type": "code",
   "execution_count": 15,
   "metadata": {},
   "outputs": [],
   "source": [
    "class PokemonAguaFuego(PokemonFuego,PokemonAgua):\n",
    "    pass"
   ]
  },
  {
   "cell_type": "code",
   "execution_count": 20,
   "metadata": {},
   "outputs": [
    {
     "name": "stdout",
     "output_type": "stream",
     "text": [
      "<__main__.Pokemon object at 0x10ba22a90>\n"
     ]
    }
   ],
   "source": [
    "#oPokemonAguaFuego = PokemonAguaFuego(\"Squirlmander\",50,65,88,\"AguaFuego\")\n",
    "#print(oPokemonAguaFuego)\n",
    "oPokemonAguaFuego = Pokemon()\n",
    "oPokemonAguaFuego.nombre = \"pepe\"\n",
    "print(oPokemonAguaFuego)"
   ]
  },
  {
   "cell_type": "code",
   "execution_count": null,
   "metadata": {},
   "outputs": [],
   "source": []
  }
 ],
 "metadata": {
  "kernelspec": {
   "display_name": "Python 3",
   "language": "python",
   "name": "python3"
  },
  "language_info": {
   "codemirror_mode": {
    "name": "ipython",
    "version": 3
   },
   "file_extension": ".py",
   "mimetype": "text/x-python",
   "name": "python",
   "nbconvert_exporter": "python",
   "pygments_lexer": "ipython3",
   "version": "3.6.6"
  }
 },
 "nbformat": 4,
 "nbformat_minor": 2
}
