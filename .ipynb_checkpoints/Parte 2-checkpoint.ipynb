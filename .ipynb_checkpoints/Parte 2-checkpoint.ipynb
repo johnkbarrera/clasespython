{
 "cells": [
  {
   "cell_type": "code",
   "execution_count": null,
   "metadata": {},
   "outputs": [],
   "source": []
  },
  {
   "cell_type": "markdown",
   "metadata": {},
   "source": [
    "# PARTE 2"
   ]
  },
  {
   "cell_type": "markdown",
   "metadata": {},
   "source": [
    "## Listas\n",
    "\n",
    "<img src=\"images/listas_python.jpg\" align=\"left\" width=\"600\" height=\"600\" >"
   ]
  },
  {
   "cell_type": "code",
   "execution_count": 1,
   "metadata": {},
   "outputs": [],
   "source": [
    "listas_vacia = []"
   ]
  },
  {
   "cell_type": "code",
   "execution_count": 2,
   "metadata": {},
   "outputs": [],
   "source": [
    "phi= 3.14159\n",
    "lista = [1, phi , 'UP', [1,2,3] , True, 2.72, False]"
   ]
  },
  {
   "cell_type": "markdown",
   "metadata": {},
   "source": [
    "## Metodo input()\n",
    "\n",
    "Capturar datos en python y guardarlas en una variable. \n",
    "\n",
    "<img src=\"images/captura_dato.jpg\" align=\"left\">"
   ]
  },
  {
   "cell_type": "code",
   "execution_count": 3,
   "metadata": {},
   "outputs": [
    {
     "name": "stdout",
     "output_type": "stream",
     "text": [
      "¿Cómo se llama usted?\n",
      "juan\n"
     ]
    }
   ],
   "source": [
    "print(\"¿Cómo se llama usted?\")\n",
    "nombre = input()"
   ]
  },
  {
   "cell_type": "code",
   "execution_count": 4,
   "metadata": {},
   "outputs": [
    {
     "name": "stdout",
     "output_type": "stream",
     "text": [
      "Bienvenido juan\n"
     ]
    }
   ],
   "source": [
    "print(\"Bienvenido \"+ nombre)"
   ]
  },
  {
   "cell_type": "markdown",
   "metadata": {},
   "source": [
    "## Condición if - else\n"
   ]
  },
  {
   "cell_type": "markdown",
   "metadata": {},
   "source": [
    "### Ejemplo 1: \n",
    "\n",
    "Flujograma para determinar si un número es par o impar.\n",
    "\n",
    "\n",
    "<img src=\"images/if_else_par.png\" align=\"left\" width=\"600\" height=\"600\" >\n"
   ]
  },
  {
   "cell_type": "code",
   "execution_count": 5,
   "metadata": {},
   "outputs": [
    {
     "name": "stdout",
     "output_type": "stream",
     "text": [
      "Ingrese un número: \n",
      "247\n"
     ]
    }
   ],
   "source": [
    "print(\"Ingrese un número: \")\n",
    "N = input()"
   ]
  },
  {
   "cell_type": "code",
   "execution_count": 6,
   "metadata": {},
   "outputs": [
    {
     "name": "stdout",
     "output_type": "stream",
     "text": [
      "<class 'str'>\n"
     ]
    }
   ],
   "source": [
    "print(type(N))\n",
    "N = int(N)           # Convertimos N en entero"
   ]
  },
  {
   "cell_type": "code",
   "execution_count": 7,
   "metadata": {},
   "outputs": [
    {
     "name": "stdout",
     "output_type": "stream",
     "text": [
      "IMPAR\n"
     ]
    }
   ],
   "source": [
    "# Flujo de Datos\n",
    "if (N%2) == 0:\n",
    "    print(\"PAR\")\n",
    "else:\n",
    "    print(\"IMPAR\")"
   ]
  },
  {
   "cell_type": "code",
   "execution_count": null,
   "metadata": {},
   "outputs": [],
   "source": []
  },
  {
   "cell_type": "markdown",
   "metadata": {},
   "source": [
    "### Ejemplo 2:\n",
    "Flujograma para determinar si un alumno esta aprobado o no, en base a su nota.\n",
    "\n",
    "<img src=\"images/if_else.jpg\" align=\"left\">\n",
    "\n"
   ]
  },
  {
   "cell_type": "code",
   "execution_count": 8,
   "metadata": {},
   "outputs": [
    {
     "name": "stdout",
     "output_type": "stream",
     "text": [
      "Ingrese su nota: \n",
      "16.8\n"
     ]
    }
   ],
   "source": [
    "# Ingresamos una nota (calificación)\n",
    "estado = \"No sabemos\"\n",
    "print(\"Ingrese su nota: \")\n",
    "cal = input()\n",
    "cal = float(cal)"
   ]
  },
  {
   "cell_type": "code",
   "execution_count": 9,
   "metadata": {},
   "outputs": [
    {
     "name": "stdout",
     "output_type": "stream",
     "text": [
      "El alumno esta Aprobado\n"
     ]
    }
   ],
   "source": [
    "# Flujo de Datos\n",
    "if cal >= 14:\n",
    "    estado = \"Aprobado\"\n",
    "else:\n",
    "    estado = \"Reprobado\"\n",
    "    \n",
    "print(\"El alumno esta \"+estado)"
   ]
  },
  {
   "cell_type": "markdown",
   "metadata": {},
   "source": [
    "### Ejercicios"
   ]
  },
  {
   "cell_type": "markdown",
   "metadata": {},
   "source": [
    "**Realize el algoritmo para determinar si un Año es Bisiesto**"
   ]
  },
  {
   "cell_type": "raw",
   "metadata": {},
   "source": [
    "<img src=\"images/bisiesto.jpg\" align=\"left\">"
   ]
  },
  {
   "cell_type": "raw",
   "metadata": {},
   "source": []
  },
  {
   "cell_type": "markdown",
   "metadata": {},
   "source": [
    "## For & While"
   ]
  },
  {
   "cell_type": "markdown",
   "metadata": {},
   "source": [
    "<img src=\"images/loop.jpg\" align=\"left\"  width=\"300\" height=\"300\">"
   ]
  },
  {
   "cell_type": "code",
   "execution_count": null,
   "metadata": {},
   "outputs": [],
   "source": []
  },
  {
   "cell_type": "markdown",
   "metadata": {},
   "source": [
    "## Algoritmo de la amistad "
   ]
  },
  {
   "cell_type": "markdown",
   "metadata": {},
   "source": [
    "<img src=\"images/sheldom.jpg\" align=\"left\">\n",
    "<img src=\"images/sheldom2.jpg\" align=\"left\">"
   ]
  },
  {
   "cell_type": "code",
   "execution_count": null,
   "metadata": {},
   "outputs": [],
   "source": []
  }
 ],
 "metadata": {
  "kernelspec": {
   "display_name": "Python 3",
   "language": "python",
   "name": "python3"
  },
  "language_info": {
   "codemirror_mode": {
    "name": "ipython",
    "version": 3
   },
   "file_extension": ".py",
   "mimetype": "text/x-python",
   "name": "python",
   "nbconvert_exporter": "python",
   "pygments_lexer": "ipython3",
   "version": "3.6.6"
  }
 },
 "nbformat": 4,
 "nbformat_minor": 2
}
